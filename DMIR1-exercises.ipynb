{
 "cells": [
  {
   "cell_type": "markdown",
   "metadata": {},
   "source": [
    "##  Module 1 Exercises\n",
    "\n",
    "The exercises in the notebook are similar to what has been discussed in lab and practice notebooks. "
   ]
  },
  {
   "cell_type": "markdown",
   "metadata": {},
   "source": [
    "**Activity 1: ** Read the NYC_death_causes data from **/datasets/NYC_death_causes** into variable called NYC_death_causes."
   ]
  },
  {
   "cell_type": "code",
   "execution_count": null,
   "metadata": {
    "collapsed": false
   },
   "outputs": [],
   "source": [
    "# Your code for activity 1 goes here..\n",
    "import json\n",
    "with open('../../../datasets/NYC/NYC_Causes_of_Death',) as f:\n",
    "    NYC_death_causes=json.load(f)\n"
   ]
  },
  {
   "cell_type": "markdown",
   "metadata": {},
   "source": [
    "**Activity 2: ** Normalize the json formatted data in NYC_death_causes and save the result to NYC_data variable."
   ]
  },
  {
   "cell_type": "code",
   "execution_count": null,
   "metadata": {
    "collapsed": false
   },
   "outputs": [],
   "source": [
    "# Your code for activity 2 goes here..\n",
    "import pandas as pd\n",
    "from pandas.io.json import json_normalize\n",
    "\n",
    "NYC_data=pd.io.json.json_normalize(NYC_death_causes, 'data')\n",
    "\n",
    "NYC_data\n"
   ]
  },
  {
   "cell_type": "markdown",
   "metadata": {},
   "source": [
    "**Activity 3: ** Extract names of columns from the tags \"meta/view/columns/\" and save them in a list called names. Exclude the names from list which start with a ':' in the begining. "
   ]
  },
  {
   "cell_type": "code",
   "execution_count": null,
   "metadata": {
    "collapsed": false
   },
   "outputs": [],
   "source": [
    "# Your code for activity 3 goes here..\n",
    "import numpy as np\n",
    "names=[]\n",
    "length=len(NYC_death_causes[\"meta\"][\"view\"][\"columns\"])\n",
    "for i in range(0, length):\n",
    "    names.append(NYC_death_causes[\"meta\"][\"view\"][\"columns\"][i][\"fieldName\"])\n",
    "names\n",
    "\n",
    "names=[word for word in names if not ':' in word]\n",
    "\n",
    "names"
   ]
  },
  {
   "cell_type": "markdown",
   "metadata": {},
   "source": [
    "**Activity 4: ** Drop the columns 0 through 7 from NYC_data and assign the result back to NYC_data."
   ]
  },
  {
   "cell_type": "code",
   "execution_count": null,
   "metadata": {
    "collapsed": false
   },
   "outputs": [],
   "source": [
    "# Your code for activity 4 goes here..\n",
    "NYC_data.drop(NYC_data.columns[[0, 1, 2, 3, 4, 5, 6, 7]], axis=1)\n"
   ]
  },
  {
   "cell_type": "markdown",
   "metadata": {},
   "source": [
    "**Activity 5: ** Rename the columns with the extracted names to replace the default numbered column names."
   ]
  },
  {
   "cell_type": "code",
   "execution_count": null,
   "metadata": {
    "collapsed": false
   },
   "outputs": [],
   "source": [
    "# Your code for activity 5 goes here..\n",
    "NYC_data.rename(index=str, columns= {8: names[0], 9: names[1], 10: names[2], 11: names[3], 12: names[4], 13: names[5], 14: names[6]}, inplace=True)\n",
    "NYC_data[:5]\n"
   ]
  },
  {
   "cell_type": "markdown",
   "metadata": {},
   "source": [
    "**Activity 6: ** Draw a countplot for the number of NaN values in each row. This is similar to what is done in the lab."
   ]
  },
  {
   "cell_type": "code",
   "execution_count": null,
   "metadata": {
    "collapsed": false
   },
   "outputs": [],
   "source": [
    "# Your code for activity 6 goes here..\n",
    "import numpy as np\n",
    "import pandas as pd\n",
    "from sklearn.preprocessing import Imputer\n",
    "# from sklearn.neighbors import NearestNeighbors\n",
    "import matplotlib.pyplot as plt\n",
    "from IPython.display import display\n",
    "import seaborn as sns\n",
    "sns.set_style('whitegrid')\n",
    "\n",
    "NYC_data = NYC_data.iloc[0:, 0:]\n",
    "NYC_data['num_of_null'] = NYC_data.isnull().sum(axis=1)\n",
    "print('The proportion of entries with non-NaN values is {:.2f}%'.format(len(NYC_data[NYC_data.num_of_null==0])/len(NYC_data)*100))\n",
    "      \n",
    "bins = [0,1,10,20,30,40,50,60,70,80,90]\n",
    "      \n",
    "cut = pd.cut(NYC_data.num_of_null, bins=bins, include_lowest=True, right=False)\n",
    "fig, axis1 = plt.subplots(1,figsize=(8,4))\n",
    "sns.countplot(x=cut, data=cut.to_frame(), ax=axis1)\n",
    "\n",
    "sns.plt.show()\n"
   ]
  },
  {
   "cell_type": "markdown",
   "metadata": {},
   "source": [
    "**Activity 7: ** Replace \"..\" present in rows with a valid NAN and re draw the above plot. "
   ]
  },
  {
   "cell_type": "code",
   "execution_count": null,
   "metadata": {
    "collapsed": false
   },
   "outputs": [],
   "source": [
    "# Your code for activity 7 goes here..\n",
    "temp = NYC_data.replace('.', np.NAN)\n",
    "temp\n",
    "NYC_data = temp\n",
    "\n",
    "num_data = NYC_data.iloc[0:, 5:]\n",
    "num_data['num_of_null'] = NYC_data.isnull().sum(axis=1)\n",
    "print('The proportion of entries with non-NaN values is {:.2f}%'.format(len(num_data[num_data.num_of_null==0])/len(num_data*100)))\n",
    "      \n",
    "bins = [0,1,2,3,4,5]\n",
    "      \n",
    "cut = pd.cut(num_data.num_of_null, bins=bins, include_lowest=True, right=False)\n",
    "fig, axis1 = plt.subplots(1,figsize=(8,4))\n",
    "sns.countplot(x=cut, data=cut.to_frame(), ax=axis1)\n",
    "\n",
    "sns.plt.show()"
   ]
  },
  {
   "cell_type": "code",
   "execution_count": null,
   "metadata": {
    "collapsed": false
   },
   "outputs": [],
   "source": [
    "NYC_data.shape"
   ]
  },
  {
   "cell_type": "markdown",
   "metadata": {},
   "source": [
    "**Activity 8: ** Fill the NAN values in the dataset using median values of columns. Make sure to have the column names right. "
   ]
  },
  {
   "cell_type": "code",
   "execution_count": null,
   "metadata": {
    "collapsed": false
   },
   "outputs": [],
   "source": [
    "# Your code for activity 8 goes here..\n",
    "num_data = temp.iloc[0:, 4:]\n",
    "num_data['num_of_null'] = num_data.isnull().sum(axis=0)\n",
    "\n",
    "from sklearn.preprocessing import Imputer\n",
    "\n",
    "num_data_median = num_data.copy()\n",
    "imp_median = Imputer(missing_values='NaN', strategy='median', axis=0, copy=False)\n",
    "imp_median.fit_transform(num_data_median)"
   ]
  },
  {
   "cell_type": "markdown",
   "metadata": {},
   "source": [
    "**Activity 9: ** Find all rows where number of deaths are greater than 3 standard deviations from average. "
   ]
  },
  {
   "cell_type": "code",
   "execution_count": null,
   "metadata": {
    "collapsed": false,
    "scrolled": true
   },
   "outputs": [],
   "source": [
    "# Your code for activity 9 goes here..\n",
    "from scipy import stats\n",
    "df[(np.abs(stats.zscore(df[[\"deaths\"]])) > 3).all(axis=1)]\n"
   ]
  },
  {
   "cell_type": "markdown",
   "metadata": {},
   "source": [
    "**Activity 10: ** Draw a scatter plot between the columns deaths and death rate. Use \"leading_cause\" as the color label for points. EXplain the graph briefly in below markdown cell. \n",
    "\n",
    "`Hint`: Use [ggplot library](http://ggplot.yhathq.com/docs/index.html)"
   ]
  },
  {
   "cell_type": "code",
   "execution_count": null,
   "metadata": {
    "collapsed": false
   },
   "outputs": [],
   "source": [
    "# Your code for activity 10 goes here..\n",
    "\n",
    "from ggplot import *\n",
    "\n",
    "ggplot(aes(x=deaths, y=death_rate, color=leading_cause), \n",
    "       data=df) + geom_point(stat='summary')"
   ]
  },
  {
   "cell_type": "markdown",
   "metadata": {},
   "source": [
    "    ` Your answer for activity 10 goes here...\n",
    "    \n",
    "    This doesn't actually seem to be working but I am not sure why. The error I'm getting is that it can't convert float to string?"
   ]
  },
  {
   "cell_type": "markdown",
   "metadata": {},
   "source": [
    "**Activity 11: ** Draw a histogram for deaths by year.\n",
    "\n",
    "`Hint`: Use pandas datframe histogram functions\n",
    "\n",
    "**Reference: ** [pandas visualizations](http://pandas.pydata.org/pandas-docs/version/0.18.1/visualization.html)"
   ]
  },
  {
   "cell_type": "code",
   "execution_count": null,
   "metadata": {
    "collapsed": false
   },
   "outputs": [],
   "source": [
    "# Your code for activity 11 goes here..\n",
    "%matplotlib inline\n",
    "NYC_data.hist(column='deaths', by='year');"
   ]
  },
  {
   "cell_type": "markdown",
   "metadata": {},
   "source": [
    "**Activity 12: ** Draw a box plot for deaths by year again. Give your thoughts on the plot in below markdown cell. "
   ]
  },
  {
   "cell_type": "code",
   "execution_count": null,
   "metadata": {
    "collapsed": false
   },
   "outputs": [],
   "source": [
    "# Your code for activity 12 goes here..\n",
    "%matplotlib inline\n",
    "NYC_data.boxplot(column='deaths', by='year');\n"
   ]
  },
  {
   "cell_type": "markdown",
   "metadata": {},
   "source": [
    "    `Your answer for activity 12 goes here..\n",
    "    Deaths appeared to be slightly  on the rise from 2009 until 2013, when the took a dip."
   ]
  }
 ],
 "metadata": {
  "anaconda-cloud": {},
  "kernelspec": {
   "display_name": "Python 3",
   "language": "python",
   "name": "python3"
  },
  "language_info": {
   "codemirror_mode": {
    "name": "ipython",
    "version": 3
   },
   "file_extension": ".py",
   "mimetype": "text/x-python",
   "name": "python",
   "nbconvert_exporter": "python",
   "pygments_lexer": "ipython3",
   "version": "3.4.5"
  }
 },
 "nbformat": 4,
 "nbformat_minor": 1
}
